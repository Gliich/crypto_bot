{
 "cells": [
  {
   "cell_type": "code",
   "execution_count": 1,
   "id": "af1ccd1f",
   "metadata": {},
   "outputs": [],
   "source": [
    "import pandas as pd\n",
    "import yfinance as yf"
   ]
  },
  {
   "cell_type": "code",
   "execution_count": 3,
   "id": "7a46d625",
   "metadata": {},
   "outputs": [
    {
     "data": {
      "text/plain": [
       "Open            5.038611e-02\n",
       "High            5.254453e-02\n",
       "Low             4.822730e-02\n",
       "Close           5.046606e-02\n",
       "Volume          1.714233e+09\n",
       "Dividends       0.000000e+00\n",
       "Stock Splits    0.000000e+00\n",
       "dtype: float64"
      ]
     },
     "execution_count": 3,
     "metadata": {},
     "output_type": "execute_result"
    }
   ],
   "source": [
    "symbol = 'TRX-USD'\n",
    "data = yf.Ticker(symbol)\n",
    "history = data.history(start='2020-01-01',end='2022-01-01')"
   ]
  },
  {
   "cell_type": "code",
   "execution_count": null,
   "id": "9ab7bbff",
   "metadata": {},
   "outputs": [],
   "source": []
  }
 ],
 "metadata": {
  "kernelspec": {
   "display_name": "Python 3.10.7 64-bit",
   "language": "python",
   "name": "python3"
  },
  "language_info": {
   "codemirror_mode": {
    "name": "ipython",
    "version": 3
   },
   "file_extension": ".py",
   "mimetype": "text/x-python",
   "name": "python",
   "nbconvert_exporter": "python",
   "pygments_lexer": "ipython3",
   "version": "3.10.7"
  },
  "vscode": {
   "interpreter": {
    "hash": "fbe58ca63fe33f9eeae9e71d10368d2b4a57f2b1b395836210cc60d362c66949"
   }
  }
 },
 "nbformat": 4,
 "nbformat_minor": 5
}
